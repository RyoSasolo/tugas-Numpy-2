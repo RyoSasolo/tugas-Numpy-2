{
 "cells": [
  {
   "cell_type": "markdown",
   "metadata": {},
   "source": [
    "$$(G)$$\n",
    "\n",
    "$x + 2y + 3z = 4$\n",
    "\n",
    "$5x + 6y + 7z = 8$\n",
    "\n",
    "$9x + 10y + 11z = 12$"
   ]
  },
  {
   "cell_type": "markdown",
   "metadata": {},
   "source": [
    "$$(J)$$\n",
    "\n",
    "$x1 - x2 + 2x3 + x4  = -1$\n",
    "\n",
    "$2x1 + x2 + x3 - x4  = 4$\n",
    "\n",
    "$x1 + 2x2 - x3 - 2x4 = 5$\n",
    "\n",
    "$x1       +   x3     = 1$"
   ]
  },
  {
   "cell_type": "markdown",
   "metadata": {},
   "source": [
    "$$(Q)$$\n",
    "\n",
    "$2x1 + x2 + x4 + 2x5 = 0$\n",
    "\n",
    "$x1 + x2 - x3 = 0$\n",
    "\n",
    "$x1 + x2 + x3 - 3x4 + 2x5 = 0$\n",
    "\n",
    "$2x1 + 2x2 - x3 + x5  = 0$\n",
    "\n",
    "$x1 + x2 = 9$"
   ]
  },
  {
   "cell_type": "code",
   "execution_count": null,
   "metadata": {},
   "outputs": [],
   "source": [
    "import numpy as np\n",
    "\n",
    "def Solusi(A,B) :\n",
    "    if np.linalg.det(A) == 0:\n",
    "        print('solusi tidak ada')\n",
    "    else :\n",
    "        hasil = np.linalg.solve(A,B)\n",
    "        print('nilai x_1=' ,hasil[0,0])\n",
    "        print('nilai x_2=' ,hasil[1,0])\n",
    "        print('nilai x_3=' ,hasil[2,0])\n",
    "        return\n",
    "\n",
    "A = np.array([[1,2,3],\n",
    "              [5,6,7],\n",
    "              [9,10,11]])\n",
    "B = np.array ([[4],\n",
    "               [8],\n",
    "               [12]])\n",
    "\n",
    "\n",
    "hasil = Solusi(A,B)"
   ]
  },
  {
   "cell_type": "code",
   "execution_count": null,
   "metadata": {},
   "outputs": [],
   "source": [
    "import numpy as np\n",
    "\n",
    "def Solusi(A,B) :\n",
    "    if np.linalg.det(A) == 0:\n",
    "        print('solusi tidak ada')\n",
    "    else :\n",
    "        hasil = np.linalg.solve(A,B)\n",
    "        print('nilai x_1=' ,hasil[0,0])\n",
    "        print('nilai x_2=' ,hasil[1,0])\n",
    "        print('nilai x_3=' ,hasil[2,0])\n",
    "        print('nilai x_4=' ,hasil[3,0])\n",
    "        return\n",
    "\n",
    "A = np.array([[1,-1,2,1],\n",
    "              [2,1,1,-1],\n",
    "              [1,2,1,-2],\n",
    "              [1,0,1,0]])\n",
    "B = np.array ([[1],\n",
    "               [4],\n",
    "               [5],\n",
    "               [-1]])\n",
    "\n",
    "\n",
    "hasil = Solusi(A,B)"
   ]
  },
  {
   "cell_type": "code",
   "execution_count": null,
   "metadata": {},
   "outputs": [],
   "source": [
    "import numpy as np\n",
    "\n",
    "def Solusi(A,B) :\n",
    "    if np.linalg.det(A) == 0:\n",
    "        print('solusi tidak ada')\n",
    "    else :\n",
    "        hasil = np.linalg.solve(A,B)\n",
    "        print('nilai x_1=' ,hasil[0,0])\n",
    "        print('nilai x_2=' ,hasil[1,0])\n",
    "        print('nilai x_3=' ,hasil[2,0])\n",
    "        print('nilai x_4=' ,hasil[3,0])\n",
    "        print('nilai x_5=' ,hasil[4,0])\n",
    "        return\n",
    "\n",
    "A = np.array([[2,1,0,1,2],\n",
    "              [1,1,-1,0,0],\n",
    "              [1,1,1,-3,2],\n",
    "              [2,2,-1,0,1],\n",
    "              [1,1,0,0,0]])\n",
    "B = np.array ([[0],\n",
    "               [0],\n",
    "               [0],\n",
    "               [0],\n",
    "               [9]])\n",
    "\n",
    "\n",
    "hasil = Solusi(A,B)"
   ]
  }
 ],
 "metadata": {
  "kernelspec": {
   "display_name": "Python 3",
   "language": "python",
   "name": "python3"
  },
  "language_info": {
   "codemirror_mode": {
    "name": "ipython",
    "version": 3
   },
   "file_extension": ".py",
   "mimetype": "text/x-python",
   "name": "python",
   "nbconvert_exporter": "python",
   "pygments_lexer": "ipython3",
   "version": "3.11.5"
  }
 },
 "nbformat": 4,
 "nbformat_minor": 2
}
